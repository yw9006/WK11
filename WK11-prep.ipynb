{
 "cells": [
  {
   "cell_type": "markdown",
   "metadata": {},
   "source": [
    "# Tensors"
   ]
  },
  {
   "cell_type": "markdown",
   "metadata": {},
   "source": [
    "### Gradients as equation solver"
   ]
  },
  {
   "cell_type": "code",
   "execution_count": null,
   "metadata": {},
   "outputs": [],
   "source": [
    "import torch\n",
    "import matplotlib.pyplot as plt"
   ]
  },
  {
   "cell_type": "markdown",
   "metadata": {},
   "source": [
    "<!-- $((x - 0.2)^{2} - 1)^{2} + \\frac{1}{3}$ -->\n",
    "\n",
    "$f(x) = x^4 - 0.7x^3 - 2x^2 + x + 1$"
   ]
  },
  {
   "cell_type": "code",
   "execution_count": null,
   "metadata": {},
   "outputs": [],
   "source": [
    "def peaks(x):\n",
    "  return x**4 - 0.7*x**3 - 2*x**2 + x + 1"
   ]
  },
  {
   "cell_type": "code",
   "execution_count": null,
   "metadata": {},
   "outputs": [],
   "source": [
    "x = torch.linspace(-1.3, 1.6, 300)\n",
    "y = peaks(x)\n",
    "\n",
    "plt.plot(x, y)\n",
    "plt.show()"
   ]
  },
  {
   "cell_type": "code",
   "execution_count": null,
   "metadata": {},
   "outputs": [],
   "source": [
    "xs = []\n",
    "ys = []\n",
    "\n",
    "x_ = torch.tensor(0.5, requires_grad=True)\n",
    "\n",
    "for e in range(10):\n",
    "  y_ = peaks(x_)\n",
    "  xs.append(x_.item())\n",
    "  ys.append(y_.item())\n",
    "\n",
    "  y_.backward()\n",
    "  print(x_, y_, x_.grad)\n",
    "\n",
    "  with torch.no_grad():\n",
    "    x_ -= 0.1 * x_.grad\n",
    "    x_.grad = None\n"
   ]
  },
  {
   "cell_type": "code",
   "execution_count": null,
   "metadata": {},
   "outputs": [],
   "source": [
    "plt.plot(x, y)\n",
    "plt.scatter(xs, ys, marker='o', s=14, c='r')\n",
    "plt.show()\n",
    "x_.item(), y_.item()"
   ]
  },
  {
   "cell_type": "markdown",
   "metadata": {},
   "source": [
    "### Gradients as number finders"
   ]
  },
  {
   "cell_type": "code",
   "execution_count": null,
   "metadata": {},
   "outputs": [],
   "source": [
    "import matplotlib.pyplot as plt\n",
    "import torch"
   ]
  },
  {
   "cell_type": "code",
   "execution_count": null,
   "metadata": {},
   "outputs": [],
   "source": [
    "target = torch.zeros((3, 3)).uniform_(-3, 3)\n",
    "\n",
    "v = torch.randint(-4, 4, (3,3), dtype=torch.float, requires_grad=True)\n",
    "\n",
    "target, v"
   ]
  },
  {
   "cell_type": "code",
   "execution_count": null,
   "metadata": {},
   "outputs": [],
   "source": [
    "for i in range(16):\n",
    "  diff = (v - target).pow(2).sum()\n",
    "  diff.backward()\n",
    "\n",
    "  print(diff.item())\n",
    "\n",
    "  with torch.no_grad():\n",
    "    v -= 0.1 * v.grad\n",
    "    v.grad = None\n",
    "\n",
    "target, v"
   ]
  },
  {
   "cell_type": "markdown",
   "metadata": {},
   "source": [
    "### Gradients as Linear Regression\n",
    "\n",
    "to approximate $sin(t)$:\n",
    "\n",
    "$f(t) = w_A \\cdot t + w_B \\cdot t^2 + w_C \\cdot t^3 + w_D \\cdot t^5$"
   ]
  },
  {
   "cell_type": "code",
   "execution_count": null,
   "metadata": {},
   "outputs": [],
   "source": [
    "t = torch.linspace(-torch.pi, torch.pi, 24)\n",
    "ft = torch.sin(t)\n",
    "\n",
    "w = torch.zeros((1, 4), requires_grad=True)\n",
    "fs = torch.stack([t, t**2, t**3, t**5])\n",
    "\n",
    "print(w)"
   ]
  },
  {
   "cell_type": "code",
   "execution_count": null,
   "metadata": {},
   "outputs": [],
   "source": [
    "for i in range(5000):\n",
    "  ft_p = w.matmul(fs)\n",
    "  loss = (ft_p - ft).pow(2).sum()\n",
    "  loss.backward()\n",
    "\n",
    "  with torch.no_grad():\n",
    "    w -= 1e-6 * w.grad\n",
    "    w.grad = None\n",
    "\n",
    "  if i%100 == 0:\n",
    "    print(i, loss.item())\n",
    "\n",
    "loss.item(), w"
   ]
  },
  {
   "cell_type": "code",
   "execution_count": null,
   "metadata": {},
   "outputs": [],
   "source": [
    "plt.scatter(t, ft, marker='o', s=10)\n",
    "plt.plot(t, ft_p.detach().reshape(-1), color='r')\n",
    "plt.show()"
   ]
  },
  {
   "cell_type": "markdown",
   "metadata": {},
   "source": [
    "## Compare to Linear Regression"
   ]
  },
  {
   "cell_type": "code",
   "execution_count": null,
   "metadata": {},
   "outputs": [],
   "source": [
    "!wget -q https://github.com/DM-GY-9103-2024F-H/9103-utils/raw/main/src/data_utils.py"
   ]
  },
  {
   "cell_type": "code",
   "execution_count": null,
   "metadata": {},
   "outputs": [],
   "source": [
    "import matplotlib.pyplot as plt\n",
    "import pandas as pd\n",
    "\n",
    "from sklearn.metrics import root_mean_squared_error\n",
    "from sklearn.model_selection import train_test_split\n",
    "\n",
    "from data_utils import object_from_json_url, StandardScaler, LinearRegression, PolynomialFeatures"
   ]
  },
  {
   "cell_type": "code",
   "execution_count": null,
   "metadata": {},
   "outputs": [],
   "source": [
    "# Define the location of the json file here\n",
    "HOUSES_FILE = \"https://raw.githubusercontent.com/DM-GY-9103-2024F-H/9103-utils/main/datasets/json/LA_housing.json\"\n",
    "\n",
    "houses_info = object_from_json_url(HOUSES_FILE)\n",
    "\n",
    "houses_raw_df = pd.DataFrame.from_records(houses_info)\n",
    "\n",
    "std_scaler = StandardScaler()\n",
    "houses_df = std_scaler.fit_transform(houses_raw_df)\n",
    "\n",
    "houses_train, houses_test = train_test_split(houses_df, test_size=0.2)\n",
    "\n",
    "houses_train.head()"
   ]
  },
  {
   "cell_type": "code",
   "execution_count": null,
   "metadata": {},
   "outputs": [],
   "source": [
    "# Get prices and features\n",
    "Y_train = houses_train[\"value\"]\n",
    "X_train = houses_train.drop(columns=[\"value\"])\n",
    "\n",
    "Y_test = houses_test[\"value\"]\n",
    "X_test = houses_test.drop(columns=[\"value\"])\n",
    "\n",
    "# Augment\n",
    "# poly = PolynomialFeatures(degree=4, include_bias=False)\n",
    "X_train_poly = X_train\n",
    "X_test_poly = X_test\n",
    "\n",
    "# Linear Regression\n",
    "price_model = LinearRegression()\n",
    "\n",
    "# Build the model\n",
    "price_model.fit(X_train_poly, Y_train)\n",
    "\n",
    "# Run the model on the datasets\n",
    "predicted_std_train = price_model.predict(X_train_poly)\n",
    "predicted_std_test = price_model.predict(X_test_poly)\n",
    "\n",
    "# Un-normalize the data\n",
    "predicted_train = std_scaler.inverse_transform(predicted_std_train)\n",
    "predicted_test = std_scaler.inverse_transform(predicted_std_test)\n",
    "\n",
    "# Measure Model error\n",
    "rmse_train = root_mean_squared_error(Y_train.values, predicted_std_train.values)\n",
    "rmse_test = root_mean_squared_error(Y_test.values, predicted_std_test.values)\n",
    "\n",
    "print(\"train error:\", rmse_train, \"\\ntest error:\", rmse_test)\n"
   ]
  },
  {
   "cell_type": "code",
   "execution_count": null,
   "metadata": {},
   "outputs": [],
   "source": [
    "# Get prices and features\n",
    "Y_train = houses_train[\"value\"]\n",
    "X_train = houses_train.drop(columns=[\"value\"])\n",
    "\n",
    "Y_test = houses_test[\"value\"]\n",
    "X_test = houses_test.drop(columns=[\"value\"])\n",
    "\n",
    "# Augment\n",
    "poly = PolynomialFeatures(degree=4, include_bias=False)\n",
    "X_train_poly = poly.fit_transform(X_train)\n",
    "X_test_poly = poly.transform(X_test)\n",
    "\n",
    "# Linear Regression\n",
    "price_model = LinearRegression()\n",
    "\n",
    "# Build the model\n",
    "price_model.fit(X_train_poly, Y_train)\n",
    "\n",
    "# Run the model on the datasets\n",
    "predicted_std_train = price_model.predict(X_train_poly)\n",
    "predicted_std_test = price_model.predict(X_test_poly)\n",
    "\n",
    "# Un-normalize the data\n",
    "predicted_train = std_scaler.inverse_transform(predicted_std_train)\n",
    "predicted_test = std_scaler.inverse_transform(predicted_std_test)\n",
    "\n",
    "# Measure Model error\n",
    "rmse_train = root_mean_squared_error(Y_train.values, predicted_std_train.values)\n",
    "rmse_test = root_mean_squared_error(Y_test.values, predicted_std_test.values)\n",
    "\n",
    "print(\"train error:\", rmse_train, \"\\ntest error:\", rmse_test)\n"
   ]
  }
 ],
 "metadata": {
  "kernelspec": {
   "display_name": "9103",
   "language": "python",
   "name": "python3"
  },
  "language_info": {
   "codemirror_mode": {
    "name": "ipython",
    "version": 3
   },
   "file_extension": ".py",
   "mimetype": "text/x-python",
   "name": "python",
   "nbconvert_exporter": "python",
   "pygments_lexer": "ipython3",
   "version": "3.9.18"
  }
 },
 "nbformat": 4,
 "nbformat_minor": 2
}
